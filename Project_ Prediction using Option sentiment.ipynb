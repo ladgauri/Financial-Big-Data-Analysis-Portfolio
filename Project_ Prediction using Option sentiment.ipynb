{
  "nbformat": 4,
  "nbformat_minor": 0,
  "metadata": {
    "colab": {
      "provenance": []
    },
    "kernelspec": {
      "name": "python3",
      "display_name": "Python 3"
    },
    "language_info": {
      "name": "python"
    }
  },
  "cells": [
    {
      "cell_type": "code",
      "execution_count": null,
      "metadata": {
        "colab": {
          "base_uri": "https://localhost:8080/"
        },
        "id": "bfnzcHKaiXWk",
        "outputId": "5e1dbd70-124c-459b-b3e7-a0e099ee70c3"
      },
      "outputs": [
        {
          "output_type": "stream",
          "name": "stdout",
          "text": [
            "Drive already mounted at /content/drive; to attempt to forcibly remount, call drive.mount(\"/content/drive\", force_remount=True).\n"
          ]
        }
      ],
      "source": [
        "# FNCE 471 Final Project Gauri Lad\n",
        "# The predictability of option sentiment measure (put-call, option-to-stock) on stock returns.\n",
        "from google.colab import drive\n",
        "drive.mount('/content/drive')\n",
        "import os\n",
        "os.chdir(\"/content/drive/My Drive/FNCE 471/Working File\")"
      ]
    },
    {
      "cell_type": "code",
      "source": [
        "#Reading CSV file\n",
        "import re\n",
        "import csv\n",
        "import pandas as pd\n",
        "path=pd.read_csv(\"ISEE-Index-20231202-061902.csv\")\n",
        "path.columns=path.columns.str.title()\n",
        "print(path.head())\n"
      ],
      "metadata": {
        "colab": {
          "base_uri": "https://localhost:8080/"
        },
        "id": "ymx6sO-4lViZ",
        "outputId": "2ba4450b-e4d1-4074-9c85-8b8b81fb1684"
      },
      "execution_count": null,
      "outputs": [
        {
          "output_type": "stream",
          "name": "stdout",
          "text": [
            "       Date  All Securities  10 Avg  20 Avg  50 Avg  All Equities  10 Avg.1  \\\n",
            "0  1/3/2006             149       0       0       0           212         0   \n",
            "1  1/4/2006             180       0       0       0           218         0   \n",
            "2  1/5/2006             195       0       0       0           264         0   \n",
            "3  1/6/2006             144       0       0       0           226         0   \n",
            "4  1/9/2006             188       0       0       0           256         0   \n",
            "\n",
            "   20 Avg.1  50 Avg.1  All Etfs  ...  50 Avg.2  Unnamed: 13  Unnamed: 14  \\\n",
            "0         0         0        49  ...         0          NaN          NaN   \n",
            "1         0         0        74  ...         0          NaN          NaN   \n",
            "2         0         0        38  ...         0          NaN          NaN   \n",
            "3         0         0        28  ...         0          NaN          NaN   \n",
            "4         0         0        45  ...         0          NaN          NaN   \n",
            "\n",
            "   Unnamed: 15  Unnamed: 16  Unnamed: 17  Unnamed: 18  Unnamed: 19  \\\n",
            "0          NaN          NaN          NaN          NaN          NaN   \n",
            "1          NaN          NaN          NaN          NaN          NaN   \n",
            "2          NaN          NaN          NaN          NaN          NaN   \n",
            "3          NaN          NaN          NaN          NaN          NaN   \n",
            "4          NaN          NaN          NaN          NaN          NaN   \n",
            "\n",
            "   Unnamed: 20  Unnamed: 21  \n",
            "0          NaN          NaN  \n",
            "1          NaN          NaN  \n",
            "2          NaN          NaN  \n",
            "3          NaN          NaN  \n",
            "4          NaN          NaN  \n",
            "\n",
            "[5 rows x 22 columns]\n"
          ]
        }
      ]
    },
    {
      "cell_type": "code",
      "source": [
        "#his part of the code selects specific columns from the DataFrame path. It creates a new DataFrame containing only the 'Date' and 'All Equities' columns.\n",
        "path=path[['Date','All Equities']]\n",
        "print(path.head())"
      ],
      "metadata": {
        "colab": {
          "base_uri": "https://localhost:8080/"
        },
        "id": "IthXv-sWtWiD",
        "outputId": "d8f1fcc7-1540-4931-98b7-3a3d0dd32b48"
      },
      "execution_count": null,
      "outputs": [
        {
          "output_type": "stream",
          "name": "stdout",
          "text": [
            "       Date  All Equities\n",
            "0  1/3/2006           212\n",
            "1  1/4/2006           218\n",
            "2  1/5/2006           264\n",
            "3  1/6/2006           226\n",
            "4  1/9/2006           256\n"
          ]
        }
      ]
    },
    {
      "cell_type": "code",
      "source": [
        "path2=pd.read_csv(\"^SPX.csv\")\n",
        "print(path2.head())\n",
        "print(type(path2))"
      ],
      "metadata": {
        "colab": {
          "base_uri": "https://localhost:8080/"
        },
        "id": "KFDdW5AllibJ",
        "outputId": "06f5bbee-af3b-4ce9-a06a-ef76f4b53e3e"
      },
      "execution_count": null,
      "outputs": [
        {
          "output_type": "stream",
          "name": "stdout",
          "text": [
            "       Date         Open         High          Low        Close    Adj Close  \\\n",
            "0  1/3/2006  1248.290039  1270.219971  1245.739990  1268.800049  1268.800049   \n",
            "1  1/4/2006  1268.800049  1275.369995  1267.739990  1273.459961  1273.459961   \n",
            "2  1/5/2006  1273.459961  1276.910034  1270.300049  1273.479980  1273.479980   \n",
            "3  1/6/2006  1273.479980  1286.089966  1273.479980  1285.449951  1285.449951   \n",
            "4  1/9/2006  1285.449951  1290.780029  1284.819946  1290.150024  1290.150024   \n",
            "\n",
            "       Volume  \n",
            "0  2554570000  \n",
            "1  2515330000  \n",
            "2  2433340000  \n",
            "3  2446560000  \n",
            "4  2301490000  \n",
            "<class 'pandas.core.frame.DataFrame'>\n"
          ]
        }
      ]
    },
    {
      "cell_type": "code",
      "source": [
        "# Inserting new column called Daily Return in path2 data frame & calculating Daily Return\n",
        "path2['Daily_Return'] = ((path2['Close'] - path2['Close'].shift(1)) / path2['Close'].shift(1)) * 100\n",
        "print(path2[['Date', 'Close', 'Daily_Return']])\n"
      ],
      "metadata": {
        "colab": {
          "base_uri": "https://localhost:8080/"
        },
        "id": "oW4HO727nOMn",
        "outputId": "354bd9b5-18a3-4f3c-ebb5-6c2e42f1e92c"
      },
      "execution_count": null,
      "outputs": [
        {
          "output_type": "stream",
          "name": "stdout",
          "text": [
            "            Date        Close  Daily_Return\n",
            "0       1/3/2006  1268.800049           NaN\n",
            "1       1/4/2006  1273.459961      0.367269\n",
            "2       1/5/2006  1273.479980      0.001572\n",
            "3       1/6/2006  1285.449951      0.939942\n",
            "4       1/9/2006  1290.150024      0.365636\n",
            "...          ...          ...           ...\n",
            "4503  11/24/2023  4559.339844      0.059687\n",
            "4504  11/27/2023  4550.430176     -0.195416\n",
            "4505  11/28/2023  4554.890137      0.098012\n",
            "4506  11/29/2023  4550.580078     -0.094625\n",
            "4507  11/30/2023  4567.799805      0.378407\n",
            "\n",
            "[4508 rows x 3 columns]\n"
          ]
        }
      ]
    },
    {
      "cell_type": "code",
      "source": [
        "# Save the updated DataFrame back to the CSV file\n",
        "path2.to_csv(\"/content/drive/My Drive/FNCE 471/Working File/^SPX_updated.csv\", index=False)"
      ],
      "metadata": {
        "id": "Ifrn53gWroz4"
      },
      "execution_count": null,
      "outputs": []
    },
    {
      "cell_type": "code",
      "source": [
        "# Merge the datasets based on the 'Date' column and removing NaN\n",
        "merged_data=pd.merge(path,path2, on='Date', how='inner')\n",
        "merged_data = merged_data.dropna()\n",
        "print(merged_data.head())"
      ],
      "metadata": {
        "colab": {
          "base_uri": "https://localhost:8080/"
        },
        "id": "BD_TXDMTsBGa",
        "outputId": "77ce1323-632f-4c9a-e0aa-9613e54c2228"
      },
      "execution_count": null,
      "outputs": [
        {
          "output_type": "stream",
          "name": "stdout",
          "text": [
            "        Date  All Equities         Open         High          Low  \\\n",
            "1   1/4/2006           218  1268.800049  1275.369995  1267.739990   \n",
            "2   1/5/2006           264  1273.459961  1276.910034  1270.300049   \n",
            "3   1/6/2006           226  1273.479980  1286.089966  1273.479980   \n",
            "4   1/9/2006           256  1285.449951  1290.780029  1284.819946   \n",
            "5  1/10/2006           249  1290.150024  1290.150024  1283.760010   \n",
            "\n",
            "         Close    Adj Close      Volume  Daily_Return  \n",
            "1  1273.459961  1273.459961  2515330000      0.367269  \n",
            "2  1273.479980  1273.479980  2433340000      0.001572  \n",
            "3  1285.449951  1285.449951  2446560000      0.939942  \n",
            "4  1290.150024  1290.150024  2301490000      0.365636  \n",
            "5  1289.689941  1289.689941  2373080000     -0.035661  \n"
          ]
        }
      ]
    },
    {
      "cell_type": "code",
      "source": [
        "# Performing Linear Regression on merged data frame and printing the score\n",
        "from sklearn.model_selection import train_test_split\n",
        "from sklearn.linear_model import LinearRegression\n",
        "from sklearn.metrics import mean_squared_error, r2_score\n",
        "import numpy as np\n",
        "# Extracting features (X) and target variable (y)\n",
        "X= merged_data[['All Equities']]\n",
        "y= merged_data['Daily_Return']\n",
        "X_train, X_test, y_train, y_test= train_test_split(X, y, test_size=0.3, random_state=42)\n",
        "Ir=LinearRegression()\n",
        "Ir.fit(X_train, y_train)\n",
        "print(Ir.coef_)\n",
        "print(Ir.intercept_)\n",
        "print(Ir.score(X_train, y_train))\n",
        "print(Ir.score(X_test, y_test))"
      ],
      "metadata": {
        "colab": {
          "base_uri": "https://localhost:8080/"
        },
        "id": "e-OF8WJYszSg",
        "outputId": "91c9b131-e93a-4cd9-8bc8-640baf158091"
      },
      "execution_count": null,
      "outputs": [
        {
          "output_type": "stream",
          "name": "stdout",
          "text": [
            "[0.0046934]\n",
            "-0.6804957853745122\n",
            "0.02299204200472371\n",
            "0.022352942795029862\n"
          ]
        }
      ]
    },
    {
      "cell_type": "code",
      "source": [],
      "metadata": {
        "id": "NERdR8aV2FyU"
      },
      "execution_count": null,
      "outputs": []
    }
  ]
}